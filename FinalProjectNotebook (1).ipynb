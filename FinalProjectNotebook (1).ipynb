{
 "cells": [
  {
   "cell_type": "markdown",
   "metadata": {},
   "source": [
    "# Creating a simulation model to aid in managing habitats for a protected reserve. "
   ]
  },
  {
   "cell_type": "code",
   "execution_count": 4,
   "metadata": {},
   "outputs": [],
   "source": [
    "#Import necessary modules\n",
    "import random\n",
    "from copy import copy\n",
    "import matplotlib.pyplot as plt"
   ]
  },
  {
   "cell_type": "code",
   "execution_count": null,
   "metadata": {},
   "outputs": [],
   "source": [
    "#Define the individual class.\n",
    "class individual:\n",
    "    # Add a docstring     \n",
    "    def __init__(self,id=,x=,y=,color=\"\"): # Add default values and color phenotype.\n",
    "        # Add a docstring\n",
    "        self.id = id\n",
    "        self.x = x\n",
    "        self.y = y\n",
    "        self.color = color\n",
    "def move(self): # Add necessary arguments\n",
    "        # Add a docstring"
   ]
  },
  {
   "cell_type": "code",
   "execution_count": null,
   "metadata": {},
   "outputs": [],
   "source": [
    "#Define the population class.\n",
    "class population:\n",
    "  #add docstring\n",
    "  def __init__(self,mapSize=,popSize=): # Add default values and starting population size.\n",
    "        # Add a docstring\n",
    "        self.mapSize = mapSize\n",
    "        self.popSize = popSize\n",
    "        self.individ=[] #create list of individuals\n",
    "        for i in range(popSize):\n",
    "            self.individ.append(individual(id=i+1)) #update individuals' ID  \n",
    "    def move(self): # Add necessary arguments\n",
    "        # Add a docstring\n",
    "        for i in self.individ: #for loop to cause each individual to move\n",
    "            i.move() #.move() method\n",
    "    def listLocations(self): # Add necessary arguments\n",
    "        # Add a docstring\n",
    "        for i in self.individ: #for loop to print description of locations\n",
    "            i.printLocation()  \n",
    "    def draw(self): # Add necessary arguments\n",
    "        # Add a docstring\n",
    "        \n",
    "        \n",
    "#***Have methods to add and remove individuals on the list for the population\n",
    "#calculate and print the frequency of phenotypes among individuals."
   ]
  },
  {
   "cell_type": "code",
   "execution_count": null,
   "metadata": {},
   "outputs": [],
   "source": [
    "#Define the landscape class.\n",
    "class landscape:\n",
    "  #add dosctring\n",
    "  def __init__(landscapeSize=3): #Add default values.\n",
    "    # Add a docstring\n",
    "    self.landscapeSize = landscapeSize\n",
    "    self.pop=[] #create list of populations\n",
    "\n",
    "#a method that uses the probabilities in the dispersal\n",
    "#matrix to determine if an individual moves or stays each time step. \n",
    "\n",
    "\n",
    "#Create Dispersal Matrix.\n",
    "#Use random.choices() method.\n",
    "#If an individual moves from one population\n",
    "#to another, you should remove it from the list of individuals in the population where\n",
    "#it started, and add it to the list of individuals in the population where it went."
   ]
  },
  {
   "cell_type": "code",
   "execution_count": null,
   "metadata": {},
   "outputs": [],
   "source": [
    "#Code to create plots of phenotype frequencies that shows three different lines\n",
    "#for three different populations."
   ]
  },
  {
   "cell_type": "code",
   "execution_count": null,
   "metadata": {},
   "outputs": [],
   "source": [
    "#Code to create plots of population sizes that shows three different lines\n",
    "#for three different populations."
   ]
  }
 ],
 "metadata": {
  "kernelspec": {
   "display_name": "Python 3",
   "language": "python",
   "name": "python3"
  },
  "language_info": {
   "codemirror_mode": {
    "name": "ipython",
    "version": 3
   },
   "file_extension": ".py",
   "mimetype": "text/x-python",
   "name": "python",
   "nbconvert_exporter": "python",
   "pygments_lexer": "ipython3",
   "version": "3.6.4"
  }
 },
 "nbformat": 4,
 "nbformat_minor": 2
}
